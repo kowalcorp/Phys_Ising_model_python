{
 "cells": [
  {
   "cell_type": "markdown",
   "id": "910483f7",
   "metadata": {},
   "source": [
    "Based on:\n",
    "\n",
    "Optimization with Cython: Ising Models (Part 1)\n",
    "https://www.youtube.com/watch?v=rN7g4gzO2sk&ab_channel=JakeVanderplas\n",
    "\n",
    "Optimization with Cython: Ising Models (Part 2)\n",
    "https://www.youtube.com/watch?v=LOzcSuw3yOY&ab_channel=JakeVanderplas \n",
    "\n",
    "https://linuxpip.org/git-error-fatal-authentication-failed/#The_fatal_Authentication_failed_error_message"
   ]
  },
  {
   "cell_type": "markdown",
   "id": "d685608d",
   "metadata": {},
   "source": [
    "To add all the changes you've made:\n",
    "\n",
    "git add .\n",
    "\n",
    "To commit them:\n",
    "\n",
    "git commit -m \"MY MESSAGE HERE\" #-m is the message flag\n",
    "\n",
    "You can put those steps together like this:\n",
    "\n",
    "git commit -a -m \"MY MESSAGE HERE\"\n",
    "\n",
    "To push your committed changes from your local repository to your remote repository:\n",
    "\n",
    "git push origin master"
   ]
  },
  {
   "cell_type": "code",
   "execution_count": 1,
   "id": "1196affe",
   "metadata": {},
   "outputs": [
    {
     "data": {
      "text/plain": [
       "array([[-1,  1,  1,  1,  1, -1,  1,  1,  1, -1],\n",
       "       [-1,  1, -1, -1,  1,  1,  1, -1,  1,  1],\n",
       "       [-1,  1,  1,  1, -1, -1, -1,  1, -1,  1],\n",
       "       [ 1,  1,  1, -1,  1, -1, -1,  1, -1,  1],\n",
       "       [-1,  1, -1, -1,  1,  1, -1,  1,  1,  1],\n",
       "       [-1, -1,  1, -1, -1, -1, -1,  1,  1, -1],\n",
       "       [ 1, -1,  1,  1,  1,  1,  1, -1,  1,  1],\n",
       "       [ 1,  1,  1,  1, -1, -1, -1, -1,  1,  1],\n",
       "       [ 1,  1,  1, -1,  1, -1,  1,  1,  1, -1],\n",
       "       [-1,  1,  1,  1, -1,  1, -1, -1, -1,  1]])"
      ]
     },
     "execution_count": 1,
     "metadata": {},
     "output_type": "execute_result"
    }
   ],
   "source": [
    "\n",
    "\n",
    "import numpy as np\n",
    "\n",
    "def random_spin_field(N, M):\n",
    "    return np.random.choice([-1, 1], size=(N, M))\n",
    "\n",
    "random_spin_field(10,10)"
   ]
  },
  {
   "cell_type": "code",
   "execution_count": 2,
   "id": "d0ab761f",
   "metadata": {},
   "outputs": [
    {
     "data": {
      "image/png": "[encoded data removed]",
      "text/plain": [
       "<PIL.Image.Image image mode=L size=200x200 at 0x7FA5B2CFE710>"
      ]
     },
     "execution_count": 2,
     "metadata": {},
     "output_type": "execute_result"
    }
   ],
   "source": [
    "from PIL import Image\n",
    "\n",
    "def display_spin_field(field):\n",
    "    return Image.fromarray(np.uint8((field + 1) * 0.5 * 255)) #0..255\n",
    "\n",
    "display_spin_field(random_spin_field(200, 200))"
   ]
  },
  {
   "cell_type": "code",
   "execution_count": 3,
   "id": "4d1720a8",
   "metadata": {},
   "outputs": [],
   "source": [
    "def ising_step(field, beta = 0.4):\n",
    "    N, M  = field.shape\n",
    "    \n",
    "    for n_offset in range(2):\n",
    "        for m_offset in range(2):\n",
    "            for n in range(n_offset, N, 2):        \n",
    "                for m in range(m_offset, M, 2):\n",
    "                    _ising_update(field, n, m, beta)\n",
    "    return field\n",
    "\n",
    "def _ising_update(field, n, m, beta):\n",
    "    total = 0\n",
    "    N, M = field.shape\n",
    "    for i in range(n-1,n+2):\n",
    "        for j in range(m-1, m+2):\n",
    "            if i==n and j==m:\n",
    "                continue\n",
    "            total += field[i % N, j % M]\n",
    "    \n",
    "    dE = 2* field[n,m]*total\n",
    "    \n",
    "    if dE <=0:\n",
    "        field[n,m] *= -1\n",
    "    elif np.exp(-dE *beta ) > np.random.rand():\n",
    "        field[n,m] *= -1"
   ]
  },
  {
   "cell_type": "code",
   "execution_count": 4,
   "id": "db1d89f8",
   "metadata": {},
   "outputs": [
    {
     "data": {
      "image/png": "[encoded data removed]",
      "text/plain": [
       "<PIL.Image.Image image mode=L size=30x30 at 0x7FA5B0BDE048>"
      ]
     },
     "execution_count": 4,
     "metadata": {},
     "output_type": "execute_result"
    }
   ],
   "source": [
    "display_spin_field(ising_step(random_spin_field(30,30)))"
   ]
  },
  {
   "cell_type": "markdown",
   "id": "51a92227",
   "metadata": {},
   "source": [
    "## Animate Sequence with ipywidgets"
   ]
  },
  {
   "cell_type": "code",
   "execution_count": 5,
   "id": "93cc3c7f",
   "metadata": {},
   "outputs": [],
   "source": [
    "from ipywidgets import interact\n",
    "\n",
    "def display_ising_sequence(images):\n",
    "    def _show(frame=(0, len(images)-1)):\n",
    "        return display_spin_field(images[frame])\n",
    "    return interact(_show)"
   ]
  },
  {
   "cell_type": "code",
   "execution_count": 6,
   "id": "b7e980d1",
   "metadata": {},
   "outputs": [
    {
     "data": {
      "application/vnd.jupyter.widget-view+json": {
       "model_id": "4acd4bb8d1c04b449ac58dacbc35865c",
       "version_major": 2,
       "version_minor": 0
      },
      "text/plain": [
       "interactive(children=(IntSlider(value=25, description='frame', max=50), Output()), _dom_classes=('widget-inter…"
      ]
     },
     "metadata": {},
     "output_type": "display_data"
    },
    {
     "data": {
      "text/plain": [
       "<function __main__.display_ising_sequence.<locals>._show(frame=(0, 50))>"
      ]
     },
     "execution_count": 6,
     "metadata": {},
     "output_type": "execute_result"
    }
   ],
   "source": [
    "images = [random_spin_field(50,50)]\n",
    "for i in range(50):\n",
    "    images.append(ising_step(images[-1].copy()))\n",
    "    \n",
    "display_ising_sequence(images)"
   ]
  },
  {
   "cell_type": "code",
   "execution_count": null,
   "id": "a1c11535",
   "metadata": {},
   "outputs": [],
   "source": []
  }
 ],
 "metadata": {
  "kernelspec": {
   "display_name": "Python 3",
   "language": "python",
   "name": "python3"
  },
  "language_info": {
   "codemirror_mode": {
    "name": "ipython",
    "version": 3
   },
   "file_extension": ".py",
   "mimetype": "text/x-python",
   "name": "python",
   "nbconvert_exporter": "python",
   "pygments_lexer": "ipython3",
   "version": "3.6.13"
  }
 },
 "nbformat": 4,
 "nbformat_minor": 5
}
