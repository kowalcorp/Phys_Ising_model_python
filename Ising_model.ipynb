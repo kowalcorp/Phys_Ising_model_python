{
 "cells": [
  {
   "cell_type": "markdown",
   "id": "7d94e660",
   "metadata": {},
   "source": [
    "Based on:\n",
    "\n",
    "Optimization with Cython: Ising Models (Part 1)\n",
    "https://www.youtube.com/watch?v=rN7g4gzO2sk&ab_channel=JakeVanderplas\n",
    "\n",
    "Optimization with Cython: Ising Models (Part 2)\n",
    "https://www.youtube.com/watch?v=LOzcSuw3yOY&ab_channel=JakeVanderplas \n",
    "\n",
    "https://linuxpip.org/git-error-fatal-authentication-failed/#The_fatal_Authentication_failed_error_message"
   ]
  },
  {
   "cell_type": "code",
   "execution_count": 1,
   "id": "287456c6",
   "metadata": {},
   "outputs": [
    {
     "data": {
      "text/plain": [
       "array([[ 1, -1,  1,  1,  1,  1, -1,  1,  1, -1],\n",
       "       [-1, -1,  1, -1,  1,  1, -1, -1,  1,  1],\n",
       "       [ 1, -1,  1,  1,  1, -1,  1, -1,  1, -1],\n",
       "       [ 1,  1, -1, -1, -1, -1,  1,  1, -1, -1],\n",
       "       [ 1,  1,  1, -1, -1,  1, -1, -1,  1, -1],\n",
       "       [ 1, -1,  1, -1,  1, -1, -1,  1, -1, -1],\n",
       "       [-1,  1,  1,  1, -1, -1,  1,  1, -1,  1],\n",
       "       [ 1, -1, -1, -1,  1, -1,  1,  1,  1,  1],\n",
       "       [-1, -1, -1, -1, -1,  1, -1, -1, -1,  1],\n",
       "       [-1, -1,  1, -1, -1, -1,  1, -1,  1, -1]])"
      ]
     },
     "execution_count": 1,
     "metadata": {},
     "output_type": "execute_result"
    }
   ],
   "source": [
    "import numpy as np\n",
    "\n",
    "def random_spin_field(N, M):\n",
    "    return np.random.choice([-1, 1], size=(N, M))\n",
    "\n",
    "random_spin_field(10,10)"
   ]
  },
  {
   "cell_type": "code",
   "execution_count": 2,
   "id": "0440dc5d",
   "metadata": {},
   "outputs": [
    {
     "data": {
      "image/png": "[encoded data removed]",
      "text/plain": [
       "<PIL.Image.Image image mode=L size=200x200 at 0x8EB4D08>"
      ]
     },
     "execution_count": 2,
     "metadata": {},
     "output_type": "execute_result"
    }
   ],
   "source": [
    "from PIL import Image\n",
    "\n",
    "def display_spin_field(field):\n",
    "    return Image.fromarray(np.uint8((field + 1) * 0.5 * 255)) #0..255\n",
    "\n",
    "display_spin_field(random_spin_field(200, 200))"
   ]
  },
  {
   "cell_type": "code",
   "execution_count": 3,
   "id": "4c132813",
   "metadata": {},
   "outputs": [],
   "source": [
    "def ising_step(field, beta = 0.4):\n",
    "    N, M  = field.shape\n",
    "    \n",
    "    for n_offset in range(2):\n",
    "        for m_offset in range(2):\n",
    "            for n in range(n_offset, N, 2):        \n",
    "                for m in range(m_offset, M, 2):\n",
    "                    _ising_update(field, n, m, beta)\n",
    "    return field\n",
    "\n",
    "def _ising_update(field, n, m, beta):\n",
    "    total = 0\n",
    "    N, M = field.shape\n",
    "    for i in range(n-1,n+2):\n",
    "        for j in range(m-1, m+2):\n",
    "            if i==n and j==m:\n",
    "                continue\n",
    "            total += field[i % N, j % M]\n",
    "    \n",
    "    dE = 2* field[n,m]*total\n",
    "    \n",
    "    if dE <=0:\n",
    "        field[n,m] *= -1\n",
    "    elif np.exp(-dE *beta ) > np.random.rand():\n",
    "        field[n,m] *= -1"
   ]
  },
  {
   "cell_type": "code",
   "execution_count": 12,
   "id": "e45c0a3f",
   "metadata": {},
   "outputs": [
    {
     "data": {
      "image/png": "[encoded data removed]",
      "text/plain": [
       "<PIL.Image.Image image mode=L size=30x30 at 0x91747C8>"
      ]
     },
     "execution_count": 12,
     "metadata": {},
     "output_type": "execute_result"
    }
   ],
   "source": [
    "display_spin_field(ising_step(random_spin_field(30,30)))"
   ]
  },
  {
   "cell_type": "markdown",
   "id": "38436c42",
   "metadata": {},
   "source": [
    "## Animate Sequence with ipywidgets"
   ]
  },
  {
   "cell_type": "code",
   "execution_count": 13,
   "id": "e5ef714f",
   "metadata": {},
   "outputs": [
    {
     "ename": "ModuleNotFoundError",
     "evalue": "No module named 'ipywidgets'",
     "output_type": "error",
     "traceback": [
      "Traceback \u001b[1;36m(most recent call last)\u001b[0m:\n",
      "\u001b[1;36m  File \u001b[1;32m\"<ipython-input-13-d57b31bf62e4>\"\u001b[1;36m, line \u001b[1;32m1\u001b[1;36m, in \u001b[1;35m<module>\u001b[1;36m\u001b[0m\n\u001b[1;33m    from ipywidgets import interact\u001b[0m\n",
      "\u001b[1;31mModuleNotFoundError\u001b[0m\u001b[1;31m:\u001b[0m No module named 'ipywidgets'\n"
     ]
    }
   ],
   "source": [
    "from ipywidgets import interact\n",
    "\n",
    "def display_ising_sequence(images):\n",
    "    def _show(frame=(0, len(images)-1)):\n",
    "        return display_spin_field(images[frame])\n",
    "    return interact(_show)"
   ]
  },
  {
   "cell_type": "code",
   "execution_count": 43,
   "id": "fc4ebf1e",
   "metadata": {},
   "outputs": [
    {
     "data": {
      "application/vnd.jupyter.widget-view+json": {
       "model_id": "7fc5f0c657584784b642e1ccd0c4334a",
       "version_major": 2,
       "version_minor": 0
      },
      "text/plain": [
       "interactive(children=(IntSlider(value=125, description='frame', max=250), Output()), _dom_classes=('widget-int…"
      ]
     },
     "metadata": {},
     "output_type": "display_data"
    },
    {
     "data": {
      "text/plain": [
       "<function __main__.display_ising_sequence.<locals>._show(frame=(0, 250))>"
      ]
     },
     "execution_count": 43,
     "metadata": {},
     "output_type": "execute_result"
    }
   ],
   "source": [
    "#images = [random_spin_field(200,200)]\n",
    "for i in range(100):\n",
    "    images.append(ising_step(images[-1].copy()))\n",
    "    \n",
    "display_ising_sequence(images)"
   ]
  },
  {
   "cell_type": "markdown",
   "id": "05c57100",
   "metadata": {},
   "source": [
    "ok"
   ]
  }
 ],
 "metadata": {
  "kernelspec": {
   "display_name": "Python 3 (Spyder)",
   "language": "python3",
   "name": "python3"
  },
  "language_info": {
   "codemirror_mode": {
    "name": "ipython",
    "version": 3
   },
   "file_extension": ".py",
   "mimetype": "text/x-python",
   "name": "python",
   "nbconvert_exporter": "python",
   "pygments_lexer": "ipython3",
   "version": "3.7.10"
  }
 },
 "nbformat": 4,
 "nbformat_minor": 5
}
